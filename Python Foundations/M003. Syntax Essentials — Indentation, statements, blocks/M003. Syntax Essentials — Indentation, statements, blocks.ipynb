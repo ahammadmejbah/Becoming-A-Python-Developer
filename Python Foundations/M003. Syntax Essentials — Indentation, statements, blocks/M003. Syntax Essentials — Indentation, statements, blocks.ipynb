{
  "nbformat": 4,
  "nbformat_minor": 0,
  "metadata": {
    "colab": {
      "private_outputs": true,
      "provenance": []
    },
    "kernelspec": {
      "name": "python3",
      "display_name": "Python 3"
    },
    "language_info": {
      "name": "python"
    }
  },
  "cells": [
    {
      "cell_type": "markdown",
      "source": [
        "# M003. Syntax Essentials — Indentation, statements, blocks"
      ],
      "metadata": {
        "id": "nr63AqwIj6n0"
      }
    },
    {
      "cell_type": "markdown",
      "source": [
        "# Table of contents\n",
        "1. Python syntax at a glance\n",
        "2. Whitespace and indentation rules\n",
        "3. Blocks (suites): how code groups are formed\n",
        "4. Statements: simple vs. compound\n",
        "5. Line structure: newlines, continuation, semicolons\n",
        "6. Comments and docstrings\n",
        "7. Keywords and naming conventions\n",
        "8. Control-flow blocks: if/elif/else, for, while, try/except\n",
        "9. Function and class blocks\n",
        "10. Best practices and common pitfalls"
      ],
      "metadata": {
        "id": "s_sO1uTPjFVL"
      }
    },
    {
      "cell_type": "markdown",
      "source": [
        "# 1. Python syntax at a glance"
      ],
      "metadata": {
        "id": "IVBIMrOyj3sL"
      }
    },
    {
      "cell_type": "code",
      "source": [],
      "metadata": {
        "id": "vxZO9i9Xh5zf"
      },
      "execution_count": null,
      "outputs": []
    },
    {
      "cell_type": "markdown",
      "source": [
        "# 2. Whitespace and indentation rules"
      ],
      "metadata": {
        "id": "3JR39gNqjcP6"
      }
    },
    {
      "cell_type": "code",
      "source": [
        "random_runmber = 100\n",
        "\n",
        "if random_runmber == 20:\n",
        "    print(\"Ok\")\n",
        "else:\n",
        "    print(\"No\")"
      ],
      "metadata": {
        "id": "QxpS_KikmhAf"
      },
      "execution_count": null,
      "outputs": []
    },
    {
      "cell_type": "markdown",
      "source": [
        "# 3. Blocks (suites): how code groups are formed"
      ],
      "metadata": {
        "id": "CwWTC1tWjcNn"
      }
    },
    {
      "cell_type": "code",
      "source": [
        "random_runmber = 100\n",
        "\n",
        "if random_runmber == 20:\n",
        "    print(\"Ok\")\n",
        "    print(\"Yes this is 20\")\n",
        "else:\n",
        "    print(\"No this is 100\")"
      ],
      "metadata": {
        "id": "0TtWqsosnlGE"
      },
      "execution_count": null,
      "outputs": []
    },
    {
      "cell_type": "markdown",
      "source": [
        "# 4. Statements: simple vs. compound"
      ],
      "metadata": {
        "id": "zyDx7IL_jcLW"
      }
    },
    {
      "cell_type": "code",
      "source": [
        "random_number = 1000 # Simple Satement\n",
        "\n",
        "a, b, c, d = 2, 3, 4, 5\n",
        "a, b, c, d"
      ],
      "metadata": {
        "id": "y1X07jwdn7ES"
      },
      "execution_count": null,
      "outputs": []
    },
    {
      "cell_type": "code",
      "source": [
        "a = 1; b = 5; c = 4; d = 9;\n",
        "a, b, c, d"
      ],
      "metadata": {
        "id": "VHnyTPmzoZLQ"
      },
      "execution_count": null,
      "outputs": []
    },
    {
      "cell_type": "code",
      "source": [
        "price = 10\n",
        "\n",
        "if price > 5:\n",
        "    print(\"This is \", price)\n",
        "    price = price + 1\n",
        "    print(price)\n",
        "\n",
        "print(price)"
      ],
      "metadata": {
        "id": "LxpIPObVopav"
      },
      "execution_count": null,
      "outputs": []
    },
    {
      "cell_type": "markdown",
      "source": [
        "# 5. Line structure: newlines, continuation, semicolons"
      ],
      "metadata": {
        "id": "OCajpa8-jcJJ"
      }
    },
    {
      "cell_type": "code",
      "source": [
        "print(\"Mejbah Ahammad From\" ,\n",
        "      \" Intelligence Academy\",\n",
        "      \" and Software Intelligence\")"
      ],
      "metadata": {
        "id": "IW-OlaVapGib"
      },
      "execution_count": null,
      "outputs": []
    },
    {
      "cell_type": "markdown",
      "source": [
        "# 6. Comments and docstrings"
      ],
      "metadata": {
        "id": "hM4OWvC6jcGw"
      }
    },
    {
      "cell_type": "code",
      "source": [
        "\"\"\"  This is all about Mejbah Ahammad\"\"\" # Single Line Docstring\n",
        "\n",
        "\"\"\"  This is all about Mejbah Ahammad\n",
        "    This is from Intelligence Academy\n",
        "    This is from Software Intelligence\n",
        "\"\"\" # Multi Line Docstring\n",
        "\n",
        "# This is all about Mejbah Ahammad  -- This is the comment line\n",
        "print(\"Mejbah Ahammad From\" ,\n",
        "      \" Intelligence Academy\",\n",
        "      \" and Software Intelligence\")"
      ],
      "metadata": {
        "id": "86XE9sy-pmvr"
      },
      "execution_count": null,
      "outputs": []
    },
    {
      "cell_type": "markdown",
      "source": [
        "# 7. Keywords and naming conventions"
      ],
      "metadata": {
        "id": "N4gmQgPAjcEp"
      }
    },
    {
      "cell_type": "code",
      "source": [
        "my_name  = \"Mejbah Ahammad\"\n",
        "print(my_name)"
      ],
      "metadata": {
        "id": "6B5qD7sAqDE-"
      },
      "execution_count": null,
      "outputs": []
    },
    {
      "cell_type": "code",
      "source": [
        "myName  = \"Mejbah Ahammad\"\n",
        "print(myName)"
      ],
      "metadata": {
        "id": "dI77usRyqJyg"
      },
      "execution_count": null,
      "outputs": []
    },
    {
      "cell_type": "code",
      "source": [
        "if  = \"Mejbah Ahammad\"\n",
        "print(if)"
      ],
      "metadata": {
        "id": "jHzMPbApqd_S"
      },
      "execution_count": null,
      "outputs": []
    },
    {
      "cell_type": "markdown",
      "source": [
        "# 8. Control-flow blocks: if/elif/else, for, while, try/except"
      ],
      "metadata": {
        "id": "SlNCI2gijcCY"
      }
    },
    {
      "cell_type": "code",
      "source": [
        "price = 10\n",
        "\n",
        "if price < 5:\n",
        "    print(\"This is \", price)\n",
        "elif price == 10:\n",
        "    print(\"This is Correct\", price)\n",
        "else:\n",
        "    print(\"This is  \", price)"
      ],
      "metadata": {
        "id": "hAZbP-uDqmI9"
      },
      "execution_count": null,
      "outputs": []
    },
    {
      "cell_type": "code",
      "source": [
        "my_informations = [\"Mejbah\", \"Intelligence Academy\", \"Software Intelligence\"]\n",
        "\n",
        "for i in my_informations:\n",
        "    print(i)"
      ],
      "metadata": {
        "id": "drbgJAndrItH"
      },
      "execution_count": null,
      "outputs": []
    },
    {
      "cell_type": "code",
      "source": [
        "number  = 5\n",
        "while  number > 1:\n",
        "    try:\n",
        "        print(\"Start Counting\", number)\n",
        "        number -= 1 # number  = number - 1\n",
        "    except Exception as e:\n",
        "        print(\"Error\",e)\n",
        "        break"
      ],
      "metadata": {
        "id": "BBrZgZLbrj8s"
      },
      "execution_count": null,
      "outputs": []
    },
    {
      "cell_type": "markdown",
      "source": [
        "# 9. Function and class blocks"
      ],
      "metadata": {
        "id": "cvz64w0UjxU6"
      }
    },
    {
      "cell_type": "code",
      "source": [
        "def sum(a, b):\n",
        "    return a+b\n",
        "\n",
        "sum(50, 3)"
      ],
      "metadata": {
        "id": "tzrpqPtJsoO_"
      },
      "execution_count": null,
      "outputs": []
    },
    {
      "cell_type": "code",
      "source": [
        "def multi(a, b):\n",
        "    return a*b\n",
        "\n",
        "multi(50, 3)\n",
        "\n",
        "class instructor:\n",
        "    title = \"AI/ML Instructor\"\n",
        "\n",
        "print(\"Class Name:\", instructor.__name__)\n",
        "print(\"instructor Title:\", instructor.title)"
      ],
      "metadata": {
        "id": "1d8BQfxXtCcj"
      },
      "execution_count": null,
      "outputs": []
    },
    {
      "cell_type": "markdown",
      "source": [
        "#10. Best practices and common pitfalls"
      ],
      "metadata": {
        "id": "MH7EtDd2jxST"
      }
    },
    {
      "cell_type": "code",
      "source": [],
      "metadata": {
        "id": "wsD0vF9njbNN"
      },
      "execution_count": null,
      "outputs": []
    }
  ]
}